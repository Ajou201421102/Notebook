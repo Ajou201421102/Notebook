{
  "nbformat": 4,
  "nbformat_minor": 0,
  "metadata": {
    "colab": {
      "name": "mlp.ipynb",
      "provenance": [],
      "collapsed_sections": [],
      "include_colab_link": true
    },
    "kernelspec": {
      "name": "python3",
      "display_name": "Python 3"
    },
    "accelerator": "GPU"
  },
  "cells": [
    {
      "cell_type": "markdown",
      "metadata": {
        "id": "view-in-github",
        "colab_type": "text"
      },
      "source": [
        "<a href=\"https://colab.research.google.com/github/Ajou201421102/Notebook/blob/main/mlp.ipynb\" target=\"_parent\"><img src=\"https://colab.research.google.com/assets/colab-badge.svg\" alt=\"Open In Colab\"/></a>"
      ]
    },
    {
      "cell_type": "markdown",
      "metadata": {
        "id": "ZcyiVUeZr2cJ"
      },
      "source": [
        "<table class=\"tfo-notebook-buttons\" align=\"left\">\n",
        "  <td>\n",
        "    <a target=\"_blank\" href=\"https://colab.research.google.com/github/sjchoi86/upstage-basic-deeplearning/blob/main/notebook/mlp.ipynb\"><img src=\"https://www.tensorflow.org/images/colab_logo_32px.png\" />Colab</a>\n",
        "  </td>\n",
        "  <td>\n",
        "    <a target=\"_blank\" href=\"https://github.com/sjchoi86/upstage-basic-deeplearning/blob/main/notebook/mlp.ipynb\"><img src=\"https://www.tensorflow.org/images/GitHub-Mark-32px.png\" />View Source</a>\n",
        "  </td>\n",
        "</table>"
      ]
    },
    {
      "cell_type": "code",
      "metadata": {
        "colab": {
          "base_uri": "https://localhost:8080/"
        },
        "id": "a2XwDDbtEary",
        "outputId": "99aca112-4c63-49d1-d49c-e9b54b4d936f"
      },
      "source": [
        "from google.colab import drive\n",
        "drive.mount('/content/drive')"
      ],
      "execution_count": null,
      "outputs": [
        {
          "output_type": "stream",
          "text": [
            "Mounted at /content/drive\n"
          ],
          "name": "stdout"
        }
      ]
    },
    {
      "cell_type": "markdown",
      "metadata": {
        "id": "w0aqRluNsI38"
      },
      "source": [
        "# Multilayer Perceptron (MLP)"
      ]
    },
    {
      "cell_type": "code",
      "metadata": {
        "id": "EXxbX-Diq9rq",
        "colab": {
          "base_uri": "https://localhost:8080/"
        },
        "outputId": "8362d92a-c442-4ef1-826a-7b0da78de931"
      },
      "source": [
        "import numpy as np\n",
        "import matplotlib.pyplot as plt\n",
        "import torch\n",
        "import torch.nn as nn\n",
        "import torch.optim as optim\n",
        "import torch.nn.functional as F\n",
        "%matplotlib inline\n",
        "%config InlineBackend.figure_format='retina'\n",
        "print (\"PyTorch version:[%s].\"%(torch.__version__))\n",
        "device = torch.device('cuda:0' if torch.cuda.is_available() else 'cpu')\n",
        "print (\"device:[%s].\"%(device))"
      ],
      "execution_count": null,
      "outputs": [
        {
          "output_type": "stream",
          "text": [
            "PyTorch version:[1.7.0+cu101].\n",
            "device:[cuda:0].\n"
          ],
          "name": "stdout"
        }
      ]
    },
    {
      "cell_type": "markdown",
      "metadata": {
        "id": "7HWvC0ZltF8a"
      },
      "source": [
        "### Dataset"
      ]
    },
    {
      "cell_type": "code",
      "metadata": {
        "id": "uaokkwJwsN5I",
        "colab": {
          "base_uri": "https://localhost:8080/"
        },
        "outputId": "efa9c416-7e16-4411-de5d-6e29961f504b"
      },
      "source": [
        "from torchvision import datasets,transforms\n",
        "mnist_train = datasets.MNIST(root='./data/',train=True,transform=transforms.ToTensor(),download=True)\n",
        "mnist_test = datasets.MNIST(root='./data/',train=False,transform=transforms.ToTensor(),download=True)\n",
        "print (\"mnist_train:\\n\",mnist_train,\"\\n\")\n",
        "print (\"mnist_test:\\n\",mnist_test,\"\\n\")\n",
        "print (\"Done.\")"
      ],
      "execution_count": null,
      "outputs": [
        {
          "output_type": "stream",
          "text": [
            "mnist_train:\n",
            " Dataset MNIST\n",
            "    Number of datapoints: 60000\n",
            "    Root location: ./data/\n",
            "    Split: Train\n",
            "    StandardTransform\n",
            "Transform: ToTensor() \n",
            "\n",
            "mnist_test:\n",
            " Dataset MNIST\n",
            "    Number of datapoints: 10000\n",
            "    Root location: ./data/\n",
            "    Split: Test\n",
            "    StandardTransform\n",
            "Transform: ToTensor() \n",
            "\n",
            "Done.\n"
          ],
          "name": "stdout"
        }
      ]
    },
    {
      "cell_type": "markdown",
      "metadata": {
        "id": "A4lP2QQoBXGw"
      },
      "source": [
        "### Data Iterator"
      ]
    },
    {
      "cell_type": "code",
      "metadata": {
        "id": "_0TKrHSCBWzm",
        "colab": {
          "base_uri": "https://localhost:8080/"
        },
        "outputId": "9db52dd3-1da4-4986-a506-fe5f68b91e72"
      },
      "source": [
        "BATCH_SIZE = 256\n",
        "train_iter = torch.utils.data.DataLoader(mnist_train,batch_size=BATCH_SIZE,shuffle=True,num_workers=1)\n",
        "test_iter = torch.utils.data.DataLoader(mnist_test,batch_size=BATCH_SIZE,shuffle=True,num_workers=1)\n",
        "print (\"Done.\")"
      ],
      "execution_count": null,
      "outputs": [
        {
          "output_type": "stream",
          "text": [
            "Done.\n"
          ],
          "name": "stdout"
        }
      ]
    },
    {
      "cell_type": "markdown",
      "metadata": {
        "id": "081T7_3lvk-N"
      },
      "source": [
        "### Define the MLP model"
      ]
    },
    {
      "cell_type": "code",
      "metadata": {
        "id": "U4mWpPXouPCR",
        "colab": {
          "base_uri": "https://localhost:8080/"
        },
        "outputId": "b764ad8a-406d-46fa-95b8-97048c54b57d"
      },
      "source": [
        "class MultiLayerPerceptronClass(nn.Module):\n",
        "    \"\"\"\n",
        "        Multilayer Perceptron (MLP) Class\n",
        "    \"\"\"\n",
        "    def __init__(self,name='mlp',xdim=784,hdim=256,ydim=10):\n",
        "        super(MultiLayerPerceptronClass,self).__init__()\n",
        "        self.name = name\n",
        "        self.xdim = xdim\n",
        "        self.hdim = hdim\n",
        "        self.ydim = ydim\n",
        "        self.lin_1 = nn.Linear(\n",
        "            # FILL IN HERE\n",
        "            self.xdim, self.hdim\n",
        "        )\n",
        "        self.lin_2 = nn.Linear(\n",
        "            # FILL IN HERE\n",
        "            self.hdim, self.ydim\n",
        "        )\n",
        "        self.init_param() # initialize parameters\n",
        "        \n",
        "    def init_param(self):\n",
        "        nn.init.kaiming_normal_(self.lin_1.weight)\n",
        "        nn.init.zeros_(self.lin_1.bias)\n",
        "        nn.init.kaiming_normal_(self.lin_2.weight)\n",
        "        nn.init.zeros_(self.lin_2.bias)\n",
        "\n",
        "    def forward(self,x):\n",
        "        net = x\n",
        "        net = self.lin_1(net)\n",
        "        net = F.relu(net)\n",
        "        net = self.lin_2(net)\n",
        "        return net\n",
        "\n",
        "M = MultiLayerPerceptronClass(name='mlp',xdim=784,hdim=256,ydim=10).to(device)\n",
        "loss = nn.CrossEntropyLoss()\n",
        "optm = optim.Adam(M.parameters(),lr=1e-3)\n",
        "print (\"Done.\")"
      ],
      "execution_count": null,
      "outputs": [
        {
          "output_type": "stream",
          "text": [
            "Done.\n"
          ],
          "name": "stdout"
        }
      ]
    },
    {
      "cell_type": "markdown",
      "metadata": {
        "id": "FrPPFQi56NDk"
      },
      "source": [
        "### Simple Forward Path of the MLP Model"
      ]
    },
    {
      "cell_type": "code",
      "metadata": {
        "id": "0rOz8a1Gw1Xi",
        "colab": {
          "base_uri": "https://localhost:8080/"
        },
        "outputId": "0e88afe9-7fa7-450e-f307-65aa578ed0b8"
      },
      "source": [
        "x_numpy = np.random.rand(2,784)\n",
        "x_torch = torch.from_numpy(x_numpy).float().to(device)\n",
        "y_torch = M.forward(x_torch) # forward path\n",
        "y_numpy = y_torch.detach().cpu().numpy() # torch tensor to numpy array\n",
        "print (\"x_numpy:\\n\",x_numpy)\n",
        "print (\"x_torch:\\n\",x_torch)\n",
        "print (\"y_torch:\\n\",y_torch)\n",
        "print (\"y_numpy:\\n\",y_numpy)"
      ],
      "execution_count": null,
      "outputs": [
        {
          "output_type": "stream",
          "text": [
            "x_numpy:\n",
            " [[0.89839139 0.89930294 0.0695056  ... 0.93270127 0.60887219 0.39951249]\n",
            " [0.37082636 0.18739341 0.78024281 ... 0.62232356 0.28370718 0.36034798]]\n",
            "x_torch:\n",
            " tensor([[0.8984, 0.8993, 0.0695,  ..., 0.9327, 0.6089, 0.3995],\n",
            "        [0.3708, 0.1874, 0.7802,  ..., 0.6223, 0.2837, 0.3603]],\n",
            "       device='cuda:0')\n",
            "y_torch:\n",
            " tensor([[-0.6265, -0.2418,  0.6317, -1.3673, -0.0632,  0.3682,  0.8968, -0.6469,\n",
            "          2.4569, -0.1288],\n",
            "        [ 0.5213, -0.5801, -0.0223, -0.1906,  0.1671,  0.5806,  1.0668, -0.2523,\n",
            "          1.6258,  0.1432]], device='cuda:0', grad_fn=<AddmmBackward>)\n",
            "y_numpy:\n",
            " [[-0.62645274 -0.24175638  0.63173836 -1.3672762  -0.06315397  0.3681657\n",
            "   0.8967762  -0.64685214  2.45695    -0.12877493]\n",
            " [ 0.5212654  -0.5801028  -0.02231693 -0.19059332  0.16714242  0.58062005\n",
            "   1.0668497  -0.252321    1.6257794   0.1432009 ]]\n"
          ],
          "name": "stdout"
        }
      ]
    },
    {
      "cell_type": "markdown",
      "metadata": {
        "id": "zzd12JKl7NpX"
      },
      "source": [
        "### Check Parameters"
      ]
    },
    {
      "cell_type": "code",
      "metadata": {
        "id": "3Rmd2r_kw1s0",
        "colab": {
          "base_uri": "https://localhost:8080/"
        },
        "outputId": "245aa1b6-cd41-402e-9750-16abc2d89e6e"
      },
      "source": [
        "np.set_printoptions(precision=3)\n",
        "n_param = 0\n",
        "for p_idx,(param_name,param) in enumerate(M.named_parameters()):\n",
        "    param_numpy = param.detach().cpu().numpy()\n",
        "    n_param += len(param_numpy.reshape(-1))\n",
        "    print (\"[%d] name:[%s] shape:[%s].\"%(p_idx,param_name,param_numpy.shape))\n",
        "    print (\"    val:%s\"%(param_numpy.reshape(-1)[:5]))\n",
        "print (\"Total number of parameters:[%s].\"%(format(n_param,',d')))"
      ],
      "execution_count": null,
      "outputs": [
        {
          "output_type": "stream",
          "text": [
            "[0] name:[lin_1.weight] shape:[(256, 784)].\n",
            "    val:[-0.074 -0.006 -0.053 -0.054  0.057]\n",
            "[1] name:[lin_1.bias] shape:[(256,)].\n",
            "    val:[0. 0. 0. 0. 0.]\n",
            "[2] name:[lin_2.weight] shape:[(10, 256)].\n",
            "    val:[-0.056  0.061 -0.051 -0.202  0.142]\n",
            "[3] name:[lin_2.bias] shape:[(10,)].\n",
            "    val:[0. 0. 0. 0. 0.]\n",
            "Total number of parameters:[203,530].\n"
          ],
          "name": "stdout"
        }
      ]
    },
    {
      "cell_type": "markdown",
      "metadata": {
        "id": "VVaqrcXUA5EB"
      },
      "source": [
        "### Evaluation Function"
      ]
    },
    {
      "cell_type": "code",
      "metadata": {
        "id": "SxXyYXH75Veq",
        "colab": {
          "base_uri": "https://localhost:8080/"
        },
        "outputId": "fde0e102-68e3-4233-971f-3bfdf85b069f"
      },
      "source": [
        "def func_eval(model,data_iter,device):\n",
        "    with torch.no_grad():\n",
        "        model.eval() # evaluate (affects DropOut and BN)\n",
        "        n_total,n_correct = 0,0\n",
        "        for batch_in,batch_out in data_iter:\n",
        "            y_trgt = batch_out.to(device)\n",
        "            model_pred = model(\n",
        "                # FILL IN HERE\n",
        "                batch_in.view(-1,28*28).to(device)\n",
        "            )\n",
        "            _,y_pred = torch.max(model_pred.data,1)\n",
        "            n_correct += (\n",
        "                # FILL IN HERE\n",
        "                y_pred==y_trgt\n",
        "            ).sum().item()\n",
        "            n_total += batch_in.size(0)\n",
        "        val_accr = (n_correct/n_total)\n",
        "        model.train() # back to train mode \n",
        "    return val_accr\n",
        "print (\"Done\")"
      ],
      "execution_count": null,
      "outputs": [
        {
          "output_type": "stream",
          "text": [
            "Done\n"
          ],
          "name": "stdout"
        }
      ]
    },
    {
      "cell_type": "markdown",
      "metadata": {
        "id": "WmmJjAFKKOrB"
      },
      "source": [
        "### Initial Evaluation"
      ]
    },
    {
      "cell_type": "code",
      "metadata": {
        "id": "pNlGD1TlA4T8",
        "colab": {
          "base_uri": "https://localhost:8080/"
        },
        "outputId": "64b7746d-10e0-4225-9955-f68429c49af0"
      },
      "source": [
        "M.init_param() # initialize parameters\n",
        "train_accr = func_eval(M,train_iter,device)\n",
        "test_accr = func_eval(M,test_iter,device)\n",
        "print (\"train_accr:[%.3f] test_accr:[%.3f].\"%(train_accr,test_accr))"
      ],
      "execution_count": null,
      "outputs": [
        {
          "output_type": "stream",
          "text": [
            "train_accr:[0.130] test_accr:[0.129].\n"
          ],
          "name": "stdout"
        }
      ]
    },
    {
      "cell_type": "markdown",
      "metadata": {
        "id": "yT_r2wMZLjTm"
      },
      "source": [
        "### Train"
      ]
    },
    {
      "cell_type": "code",
      "metadata": {
        "id": "3AS5BdrMw1E9",
        "colab": {
          "base_uri": "https://localhost:8080/"
        },
        "outputId": "0bdbf245-8205-4616-93eb-3ea675c63884"
      },
      "source": [
        "print (\"Start training.\")\n",
        "M.init_param() # initialize parameters\n",
        "M.train()\n",
        "EPOCHS,print_every = 10,1\n",
        "for epoch in range(EPOCHS):\n",
        "    loss_val_sum = 0\n",
        "    for batch_in,batch_out in train_iter:\n",
        "        # Forward path\n",
        "        y_pred = M.forward(batch_in.view(-1, 28*28).to(device))\n",
        "        loss_out = loss(y_pred,batch_out.to(device))\n",
        "        # Update\n",
        "        # FILL IN HERE      # reset gradient\n",
        "        optm.zero_grad() \n",
        "        # FILL IN HERE      # backpropagate\n",
        "        loss_out.backward()\n",
        "        # FILL IN HERE      # optimizer update\n",
        "        optm.step()\n",
        "        loss_val_sum += loss_out\n",
        "    loss_val_avg = loss_val_sum/len(train_iter)\n",
        "    # Print\n",
        "    if ((epoch%print_every)==0) or (epoch==(EPOCHS-1)):\n",
        "        train_accr = func_eval(M,train_iter,device)\n",
        "        test_accr = func_eval(M,test_iter,device)\n",
        "        print (\"epoch:[%d] loss:[%.3f] train_accr:[%.3f] test_accr:[%.3f].\"%\n",
        "               (epoch,loss_val_avg,train_accr,test_accr))\n",
        "print (\"Done\")        "
      ],
      "execution_count": null,
      "outputs": [
        {
          "output_type": "stream",
          "text": [
            "Start training.\n",
            "epoch:[0] loss:[0.383] train_accr:[0.945] test_accr:[0.943].\n",
            "epoch:[1] loss:[0.171] train_accr:[0.964] test_accr:[0.958].\n",
            "epoch:[2] loss:[0.121] train_accr:[0.974] test_accr:[0.966].\n",
            "epoch:[3] loss:[0.093] train_accr:[0.980] test_accr:[0.973].\n",
            "epoch:[4] loss:[0.074] train_accr:[0.985] test_accr:[0.974].\n",
            "epoch:[5] loss:[0.060] train_accr:[0.985] test_accr:[0.976].\n",
            "epoch:[6] loss:[0.050] train_accr:[0.990] test_accr:[0.977].\n",
            "epoch:[7] loss:[0.042] train_accr:[0.991] test_accr:[0.978].\n",
            "epoch:[8] loss:[0.035] train_accr:[0.994] test_accr:[0.980].\n",
            "epoch:[9] loss:[0.029] train_accr:[0.996] test_accr:[0.979].\n",
            "Done\n"
          ],
          "name": "stdout"
        }
      ]
    },
    {
      "cell_type": "markdown",
      "metadata": {
        "id": "NHQIhg-aNok5"
      },
      "source": [
        "### Test"
      ]
    },
    {
      "cell_type": "code",
      "metadata": {
        "id": "52zoFQxdMWRU",
        "colab": {
          "base_uri": "https://localhost:8080/",
          "height": 608
        },
        "outputId": "4a9743f2-6820-481c-b82e-afda02855345"
      },
      "source": [
        "n_sample = 25\n",
        "sample_indices = np.random.choice(len(mnist_test.targets), n_sample, replace=False)\n",
        "test_x = mnist_test.data[sample_indices]\n",
        "test_y = mnist_test.targets[sample_indices]\n",
        "with torch.no_grad():\n",
        "    y_pred = M.forward(test_x.view(-1, 28*28).type(torch.float).to(device)/255.)\n",
        "y_pred = y_pred.argmax(axis=1)\n",
        "plt.figure(figsize=(10,10))\n",
        "for idx in range(n_sample):\n",
        "    plt.subplot(5, 5, idx+1)\n",
        "    plt.imshow(test_x[idx], cmap='gray')\n",
        "    plt.axis('off')\n",
        "    plt.title(\"Pred:%d, Label:%d\"%(y_pred[idx],test_y[idx]))\n",
        "plt.show()    \n",
        "print (\"Done\")"
      ],
      "execution_count": null,
      "outputs": [
        {
          "output_type": "display_data",
          "data": {
            "image/png": "[encoded data removed]",
            "text/plain": [
              "<Figure size 720x720 with 25 Axes>"
            ]
          },
          "metadata": {
            "tags": [],
            "image/png": {
              "width": 569,
              "height": 573
            },
            "needs_background": "light"
          }
        },
        {
          "output_type": "stream",
          "text": [
            "Done\n"
          ],
          "name": "stdout"
        }
      ]
    },
    {
      "cell_type": "code",
      "metadata": {
        "id": "Ikf5C7uV_ExD"
      },
      "source": [
        ""
      ],
      "execution_count": null,
      "outputs": []
    }
  ]
}